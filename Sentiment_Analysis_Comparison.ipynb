{
  "nbformat": 4,
  "nbformat_minor": 0,
  "metadata": {
    "colab": {
      "provenance": []
    },
    "kernelspec": {
      "name": "python3",
      "display_name": "Python 3"
    },
    "language_info": {
      "name": "python"
    }
  },
  "cells": [
    {
      "cell_type": "code",
      "source": [
        "\n",
        "!pip install textblob vaderSentiment scikit-learn pandas\n",
        "\n",
        "\n",
        "import nltk\n",
        "nltk.download('punkt')\n"
      ],
      "metadata": {
        "colab": {
          "base_uri": "https://localhost:8080/"
        },
        "id": "iqOrYBQQLcfA",
        "outputId": "f3757fa8-01cf-40ce-a2e9-57d4f51c3326"
      },
      "execution_count": 15,
      "outputs": [
        {
          "output_type": "stream",
          "name": "stdout",
          "text": [
            "Requirement already satisfied: textblob in /usr/local/lib/python3.12/dist-packages (0.19.0)\n",
            "Requirement already satisfied: vaderSentiment in /usr/local/lib/python3.12/dist-packages (3.3.2)\n",
            "Requirement already satisfied: scikit-learn in /usr/local/lib/python3.12/dist-packages (1.6.1)\n",
            "Requirement already satisfied: pandas in /usr/local/lib/python3.12/dist-packages (2.2.2)\n",
            "Requirement already satisfied: nltk>=3.9 in /usr/local/lib/python3.12/dist-packages (from textblob) (3.9.1)\n",
            "Requirement already satisfied: requests in /usr/local/lib/python3.12/dist-packages (from vaderSentiment) (2.32.4)\n",
            "Requirement already satisfied: numpy>=1.19.5 in /usr/local/lib/python3.12/dist-packages (from scikit-learn) (2.0.2)\n",
            "Requirement already satisfied: scipy>=1.6.0 in /usr/local/lib/python3.12/dist-packages (from scikit-learn) (1.16.1)\n",
            "Requirement already satisfied: joblib>=1.2.0 in /usr/local/lib/python3.12/dist-packages (from scikit-learn) (1.5.1)\n",
            "Requirement already satisfied: threadpoolctl>=3.1.0 in /usr/local/lib/python3.12/dist-packages (from scikit-learn) (3.6.0)\n",
            "Requirement already satisfied: python-dateutil>=2.8.2 in /usr/local/lib/python3.12/dist-packages (from pandas) (2.9.0.post0)\n",
            "Requirement already satisfied: pytz>=2020.1 in /usr/local/lib/python3.12/dist-packages (from pandas) (2025.2)\n",
            "Requirement already satisfied: tzdata>=2022.7 in /usr/local/lib/python3.12/dist-packages (from pandas) (2025.2)\n",
            "Requirement already satisfied: click in /usr/local/lib/python3.12/dist-packages (from nltk>=3.9->textblob) (8.2.1)\n",
            "Requirement already satisfied: regex>=2021.8.3 in /usr/local/lib/python3.12/dist-packages (from nltk>=3.9->textblob) (2024.11.6)\n",
            "Requirement already satisfied: tqdm in /usr/local/lib/python3.12/dist-packages (from nltk>=3.9->textblob) (4.67.1)\n",
            "Requirement already satisfied: six>=1.5 in /usr/local/lib/python3.12/dist-packages (from python-dateutil>=2.8.2->pandas) (1.17.0)\n",
            "Requirement already satisfied: charset_normalizer<4,>=2 in /usr/local/lib/python3.12/dist-packages (from requests->vaderSentiment) (3.4.3)\n",
            "Requirement already satisfied: idna<4,>=2.5 in /usr/local/lib/python3.12/dist-packages (from requests->vaderSentiment) (3.10)\n",
            "Requirement already satisfied: urllib3<3,>=1.21.1 in /usr/local/lib/python3.12/dist-packages (from requests->vaderSentiment) (2.5.0)\n",
            "Requirement already satisfied: certifi>=2017.4.17 in /usr/local/lib/python3.12/dist-packages (from requests->vaderSentiment) (2025.8.3)\n"
          ]
        },
        {
          "output_type": "stream",
          "name": "stderr",
          "text": [
            "[nltk_data] Downloading package punkt to /root/nltk_data...\n",
            "[nltk_data]   Package punkt is already up-to-date!\n"
          ]
        },
        {
          "output_type": "execute_result",
          "data": {
            "text/plain": [
              "True"
            ]
          },
          "metadata": {},
          "execution_count": 15
        }
      ]
    },
    {
      "cell_type": "code",
      "source": [
        "\n",
        "import pandas as pd\n",
        "import numpy as np\n",
        "import random, time\n",
        "from sklearn.model_selection import train_test_split\n",
        "from sklearn.feature_extraction.text import TfidfVectorizer\n",
        "from sklearn.linear_model import LogisticRegression\n",
        "from sklearn.metrics import accuracy_score, f1_score, classification_report\n",
        "\n",
        "from textblob import TextBlob\n",
        "from vaderSentiment.vaderSentiment import SentimentIntensityAnalyzer\n"
      ],
      "metadata": {
        "id": "wpCLK9g9LcgL"
      },
      "execution_count": 5,
      "outputs": []
    },
    {
      "cell_type": "code",
      "source": [
        "data = [\n",
        "    (\"I love this phone, the battery life is fantastic!\", \"positive\"),\n",
        "    (\"Absolutely terrible service. I'm never coming back.\", \"negative\"),\n",
        "    (\"The movie was okay, not great, not terrible.\", \"neutral\"),\n",
        "    (\"What a wonderful experience, staff were so friendly!\", \"positive\"),\n",
        "    (\"The product broke after two days. Very disappointing.\", \"negative\"),\n",
        "]\n",
        "\n",
        "df = pd.DataFrame(data, columns=[\"text\", \"label\"])\n",
        "\n",
        "\n",
        "print(\"Dataset sample:\")\n",
        "print(df.head())"
      ],
      "metadata": {
        "colab": {
          "base_uri": "https://localhost:8080/"
        },
        "id": "IDwghuEVLcjt",
        "outputId": "9e7399a8-f6fb-4ed3-f95a-4a3495184cbf"
      },
      "execution_count": 14,
      "outputs": [
        {
          "output_type": "stream",
          "name": "stdout",
          "text": [
            "Dataset sample:\n",
            "                                                text     label\n",
            "0  I love this phone, the battery life is fantastic!  positive\n",
            "1  Absolutely terrible service. I'm never coming ...  negative\n",
            "2       The movie was okay, not great, not terrible.   neutral\n",
            "3  What a wonderful experience, staff were so fri...  positive\n",
            "4  The product broke after two days. Very disappo...  negative\n"
          ]
        }
      ]
    },
    {
      "cell_type": "code",
      "source": [
        "\n",
        "X_train, X_test, y_train, y_test = train_test_split(df[\"text\"], df[\"label\"], test_size=0.3, random_state=42)\n",
        "\n",
        "vectorizer = TfidfVectorizer(max_features=5000, ngram_range=(1,2))\n",
        "X_train_vec = vectorizer.fit_transform(X_train)\n",
        "X_test_vec = vectorizer.transform(X_test)\n",
        "\n",
        "model = LogisticRegression(max_iter=1000)\n",
        "model.fit(X_train_vec, y_train)\n",
        "\n",
        "y_pred = model.predict(X_test_vec)\n",
        "print(\"📊 Logistic Regression Results:\")\n",
        "print(classification_report(y_test, y_pred))\n"
      ],
      "metadata": {
        "colab": {
          "base_uri": "https://localhost:8080/"
        },
        "id": "U7Bx9dqDMRwq",
        "outputId": "28c5be89-d253-4b48-f777-465ccd1704f3"
      },
      "execution_count": 13,
      "outputs": [
        {
          "output_type": "stream",
          "name": "stdout",
          "text": [
            "📊 Logistic Regression Results:\n",
            "              precision    recall  f1-score   support\n",
            "\n",
            "    negative       0.00      0.00      0.00       2.0\n",
            "    positive       0.00      0.00      0.00       0.0\n",
            "\n",
            "    accuracy                           0.00       2.0\n",
            "   macro avg       0.00      0.00      0.00       2.0\n",
            "weighted avg       0.00      0.00      0.00       2.0\n",
            "\n"
          ]
        },
        {
          "output_type": "stream",
          "name": "stderr",
          "text": [
            "/usr/local/lib/python3.12/dist-packages/sklearn/metrics/_classification.py:1565: UndefinedMetricWarning: Precision is ill-defined and being set to 0.0 in labels with no predicted samples. Use `zero_division` parameter to control this behavior.\n",
            "  _warn_prf(average, modifier, f\"{metric.capitalize()} is\", len(result))\n",
            "/usr/local/lib/python3.12/dist-packages/sklearn/metrics/_classification.py:1565: UndefinedMetricWarning: Recall is ill-defined and being set to 0.0 in labels with no true samples. Use `zero_division` parameter to control this behavior.\n",
            "  _warn_prf(average, modifier, f\"{metric.capitalize()} is\", len(result))\n",
            "/usr/local/lib/python3.12/dist-packages/sklearn/metrics/_classification.py:1565: UndefinedMetricWarning: Precision is ill-defined and being set to 0.0 in labels with no predicted samples. Use `zero_division` parameter to control this behavior.\n",
            "  _warn_prf(average, modifier, f\"{metric.capitalize()} is\", len(result))\n",
            "/usr/local/lib/python3.12/dist-packages/sklearn/metrics/_classification.py:1565: UndefinedMetricWarning: Recall is ill-defined and being set to 0.0 in labels with no true samples. Use `zero_division` parameter to control this behavior.\n",
            "  _warn_prf(average, modifier, f\"{metric.capitalize()} is\", len(result))\n",
            "/usr/local/lib/python3.12/dist-packages/sklearn/metrics/_classification.py:1565: UndefinedMetricWarning: Precision is ill-defined and being set to 0.0 in labels with no predicted samples. Use `zero_division` parameter to control this behavior.\n",
            "  _warn_prf(average, modifier, f\"{metric.capitalize()} is\", len(result))\n",
            "/usr/local/lib/python3.12/dist-packages/sklearn/metrics/_classification.py:1565: UndefinedMetricWarning: Recall is ill-defined and being set to 0.0 in labels with no true samples. Use `zero_division` parameter to control this behavior.\n",
            "  _warn_prf(average, modifier, f\"{metric.capitalize()} is\", len(result))\n"
          ]
        }
      ]
    },
    {
      "cell_type": "code",
      "source": [
        "\n",
        "def predict_textblob(texts):\n",
        "    preds = []\n",
        "    for t in texts:\n",
        "        polarity = TextBlob(t).sentiment.polarity\n",
        "        if polarity > 0.05:\n",
        "            preds.append(\"positive\")\n",
        "        elif polarity < -0.05:\n",
        "            preds.append(\"negative\")\n",
        "        else:\n",
        "            preds.append(\"neutral\")\n",
        "    return preds\n",
        "\n",
        "def predict_vader(texts):\n",
        "    analyzer = SentimentIntensityAnalyzer()\n",
        "    preds = []\n",
        "    for t in texts:\n",
        "        s = analyzer.polarity_scores(t)[\"compound\"]\n",
        "        if s > 0.05:\n",
        "            preds.append(\"positive\")\n",
        "        elif s < -0.05:\n",
        "            preds.append(\"negative\")\n",
        "        else:\n",
        "            preds.append(\"neutral\")\n",
        "    return preds\n",
        "\n",
        "\n",
        "tb_preds = predict_textblob(X_test)\n",
        "print(\"TextBlob Results:\")\n",
        "print(classification_report(y_test, tb_preds))\n",
        "\n",
        "\n",
        "vader_preds = predict_vader(X_test)\n",
        "print(\"VADER Results:\")\n",
        "print(classification_report(y_test, vader_preds))\n"
      ],
      "metadata": {
        "colab": {
          "base_uri": "https://localhost:8080/"
        },
        "id": "uCf1v3WXNJCl",
        "outputId": "8bc7723c-f8b5-4bf1-89aa-3e91fd74fa59"
      },
      "execution_count": 8,
      "outputs": [
        {
          "output_type": "stream",
          "name": "stdout",
          "text": [
            "📊 TextBlob Results:\n",
            "              precision    recall  f1-score   support\n",
            "\n",
            "    negative       1.00      1.00      1.00         2\n",
            "\n",
            "    accuracy                           1.00         2\n",
            "   macro avg       1.00      1.00      1.00         2\n",
            "weighted avg       1.00      1.00      1.00         2\n",
            "\n",
            "📊 VADER Results:\n",
            "              precision    recall  f1-score   support\n",
            "\n",
            "    negative       1.00      1.00      1.00         2\n",
            "\n",
            "    accuracy                           1.00         2\n",
            "   macro avg       1.00      1.00      1.00         2\n",
            "weighted avg       1.00      1.00      1.00         2\n",
            "\n"
          ]
        }
      ]
    },
    {
      "cell_type": "code",
      "source": [
        "\n",
        "def timeit_predict(fn, texts, name):\n",
        "    start = time.time()\n",
        "    fn(texts)\n",
        "    duration = time.time() - start\n",
        "    print(f\"{name} took {duration:.4f} sec for {len(texts)} samples ({duration/len(texts):.6f} sec per sample)\")\n",
        "\n",
        "timeit_predict(lambda t: model.predict(vectorizer.transform(t)), list(X_test), \"Logistic Regression\")\n",
        "timeit_predict(predict_textblob, list(X_test), \"TextBlob\")\n",
        "timeit_predict(predict_vader, list(X_test), \"VADER\")\n"
      ],
      "metadata": {
        "colab": {
          "base_uri": "https://localhost:8080/"
        },
        "id": "33PqwbAzOmVp",
        "outputId": "c390f1a5-3f7e-4bd3-d083-bf12069fd599"
      },
      "execution_count": 9,
      "outputs": [
        {
          "output_type": "stream",
          "name": "stdout",
          "text": [
            "Logistic Regression took 0.0019 sec for 2 samples (0.000959 sec per sample)\n",
            "TextBlob took 0.0007 sec for 2 samples (0.000353 sec per sample)\n",
            "VADER took 0.0162 sec for 2 samples (0.008107 sec per sample)\n"
          ]
        }
      ]
    },
    {
      "cell_type": "code",
      "source": [
        "\n",
        "from collections import defaultdict, Counter\n",
        "\n",
        "def tokenize(s): return s.split()\n",
        "\n",
        "def build_ngram_model(texts, n=2):\n",
        "    model = defaultdict(Counter)\n",
        "    for doc in texts:\n",
        "        tokens = tokenize(doc)\n",
        "        for i in range(len(tokens)-n):\n",
        "            context = tuple(tokens[i:i+n])\n",
        "            nxt = tokens[i+n]\n",
        "            model[context][nxt] += 1\n",
        "    return model\n",
        "\n",
        "def generate_text(model, n=2, max_tokens=20):\n",
        "    context = random.choice(list(model.keys()))\n",
        "    result = list(context)\n",
        "    for _ in range(max_tokens):\n",
        "        if context not in model: break\n",
        "        next_word = random.choice(list(model[context].elements()))\n",
        "        result.append(next_word)\n",
        "        context = tuple(result[-n:])\n",
        "    return \" \".join(result)\n",
        "\n",
        "ngram_model = build_ngram_model(df[\"text\"], n=2)\n",
        "for i in range(3):\n",
        "    print(f\"Generated {i+1}: {generate_text(ngram_model, n=2)}\")\n"
      ],
      "metadata": {
        "colab": {
          "base_uri": "https://localhost:8080/"
        },
        "id": "6GGDYjTvQde5",
        "outputId": "651660b4-842d-4a11-83df-1a463dccf422"
      },
      "execution_count": 10,
      "outputs": [
        {
          "output_type": "stream",
          "name": "stdout",
          "text": [
            "Generated 1: What a wonderful experience, staff were so friendly!\n",
            "Generated 2: service. I'm never coming back.\n",
            "Generated 3: phone, the battery life is fantastic!\n"
          ]
        }
      ]
    }
  ]
}